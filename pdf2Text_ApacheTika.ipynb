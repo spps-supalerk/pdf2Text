{
  "nbformat": 4,
  "nbformat_minor": 0,
  "metadata": {
    "colab": {
      "name": "pdf2Text_ApacheTika.ipynb",
      "provenance": [],
      "collapsed_sections": [],
      "toc_visible": true,
      "mount_file_id": "165LnLSL2AsfGnQ-oalkq4aN5hXMuAYd4",
      "authorship_tag": "ABX9TyNFhM/qA1IfBQEqQjOLV7gu",
      "include_colab_link": true
    },
    "kernelspec": {
      "name": "python3",
      "display_name": "Python 3"
    }
  },
  "cells": [
    {
      "cell_type": "markdown",
      "metadata": {
        "id": "view-in-github",
        "colab_type": "text"
      },
      "source": [
        "<a href=\"https://colab.research.google.com/github/spps-supalerk/pdf2Text/blob/master/pdf2Text_ApacheTika.ipynb\" target=\"_parent\"><img src=\"https://colab.research.google.com/assets/colab-badge.svg\" alt=\"Open In Colab\"/></a>"
      ]
    },
    {
      "cell_type": "code",
      "metadata": {
        "id": "3zqGQZPHtedL",
        "colab_type": "code",
        "colab": {
          "base_uri": "https://localhost:8080/",
          "height": 136
        },
        "outputId": "81e1c19b-5722-4a10-a5df-40383b96dba7"
      },
      "source": [
        "!pip install tika"
      ],
      "execution_count": 1,
      "outputs": [
        {
          "output_type": "stream",
          "text": [
            "Requirement already satisfied: tika in /usr/local/lib/python3.6/dist-packages (1.24)\n",
            "Requirement already satisfied: setuptools in /usr/local/lib/python3.6/dist-packages (from tika) (49.6.0)\n",
            "Requirement already satisfied: requests in /usr/local/lib/python3.6/dist-packages (from tika) (2.23.0)\n",
            "Requirement already satisfied: chardet<4,>=3.0.2 in /usr/local/lib/python3.6/dist-packages (from requests->tika) (3.0.4)\n",
            "Requirement already satisfied: urllib3!=1.25.0,!=1.25.1,<1.26,>=1.21.1 in /usr/local/lib/python3.6/dist-packages (from requests->tika) (1.24.3)\n",
            "Requirement already satisfied: idna<3,>=2.5 in /usr/local/lib/python3.6/dist-packages (from requests->tika) (2.10)\n",
            "Requirement already satisfied: certifi>=2017.4.17 in /usr/local/lib/python3.6/dist-packages (from requests->tika) (2020.6.20)\n"
          ],
          "name": "stdout"
        }
      ]
    },
    {
      "cell_type": "markdown",
      "metadata": {
        "id": "OUipHrBFvEzk",
        "colab_type": "text"
      },
      "source": [
        "# Connect google drive"
      ]
    },
    {
      "cell_type": "code",
      "metadata": {
        "id": "vjnQIu0otpxj",
        "colab_type": "code",
        "colab": {}
      },
      "source": [
        "from pydrive.auth import GoogleAuth\n",
        "from pydrive.drive import GoogleDrive\n",
        "from google.colab import auth\n",
        "from oauth2client.client import GoogleCredentials\n",
        "\n",
        "auth.authenticate_user()\n",
        "gauth = GoogleAuth()\n",
        "gauth.credentials = GoogleCredentials.get_application_default()\n",
        "drive = GoogleDrive(gauth)"
      ],
      "execution_count": 2,
      "outputs": []
    },
    {
      "cell_type": "markdown",
      "metadata": {
        "id": "LxGds7p9vHyF",
        "colab_type": "text"
      },
      "source": [
        "# Import Library"
      ]
    },
    {
      "cell_type": "code",
      "metadata": {
        "id": "a128OaGGt2A8",
        "colab_type": "code",
        "colab": {}
      },
      "source": [
        "import pandas as pd\n",
        "from tqdm import tqdm\n",
        "from tika import parser"
      ],
      "execution_count": 3,
      "outputs": []
    },
    {
      "cell_type": "code",
      "metadata": {
        "id": "OpSfeTUJvR-J",
        "colab_type": "code",
        "colab": {}
      },
      "source": [
        "def get_file_from_id(id, f_name):\n",
        "  downloaded = drive.CreateFile({'id':id})  \n",
        "  downloaded.GetContentFile(f_name)\n",
        "\n",
        "def pdf2text(f_pdf):\n",
        "  raw = parser.from_file(f_pdf)\n",
        "  return raw['content']"
      ],
      "execution_count": 4,
      "outputs": []
    },
    {
      "cell_type": "code",
      "metadata": {
        "id": "1PLLlDLXBNM4",
        "colab_type": "code",
        "colab": {}
      },
      "source": [
        "# file_id from google drive\n",
        "file_id = [ '1310udhmdfXYpwox727N0FOQVC0NaQFTt',\n",
        "              '1qschiwWNOLsTIQ4I8zZKhdonEDIk80V5',\n",
        "              '1waJkTk6aEETHZrfJ6672-l6ULAxd2tPi',\n",
        "              '1FZi5LL9FSfsZkq_qkxzRDPQupbtUOvAY']\n",
        "\n",
        "# create empty dict\n",
        "# key : file_name, value : longtext\n",
        "dic_text = {}"
      ],
      "execution_count": 5,
      "outputs": []
    },
    {
      "cell_type": "markdown",
      "metadata": {
        "id": "8HSRM3euRyhg",
        "colab_type": "text"
      },
      "source": [
        "# Get text from pdf files"
      ]
    },
    {
      "cell_type": "code",
      "metadata": {
        "id": "w8cEqURPBjlF",
        "colab_type": "code",
        "colab": {
          "base_uri": "https://localhost:8080/",
          "height": 34
        },
        "outputId": "fc2c69aa-5927-4d7f-b7d5-9cd13976178f"
      },
      "source": [
        "# get pdf from file_id in pdf_links\n",
        "for link in tqdm(file_id):\n",
        "  \n",
        "  # create file name as thier file_id + '.pdf'\n",
        "  f_name = link + '.pdf'\n",
        "\n",
        "  # get pdf file from url\n",
        "  get_file_from_id(link, f_name)\n",
        "\n",
        "  # get text from pdf file and contain them in dic_text\n",
        "  if f_name not in dic_text.keys():\n",
        "    # get text\n",
        "    text = pdf2text(f_name)\n",
        "\n",
        "    # you can clean your text here\n",
        "    #\n",
        "    #\n",
        "    #\n",
        "    # put text into text_dic\n",
        "    dic_text[f_name] = text"
      ],
      "execution_count": 6,
      "outputs": [
        {
          "output_type": "stream",
          "text": [
            "100%|██████████| 4/4 [00:03<00:00,  1.05it/s]\n"
          ],
          "name": "stderr"
        }
      ]
    },
    {
      "cell_type": "code",
      "metadata": {
        "id": "uqCyu4jNBmDt",
        "colab_type": "code",
        "colab": {
          "base_uri": "https://localhost:8080/",
          "height": 120
        },
        "outputId": "f7f5a46e-7de9-47d0-8f41-eafce2d4bd0f"
      },
      "source": [
        "dic_text['1310udhmdfXYpwox727N0FOQVC0NaQFTt.pdf']"
      ],
      "execution_count": 7,
      "outputs": [
        {
          "output_type": "execute_result",
          "data": {
            "application/vnd.google.colaboratory.intrinsic+json": {
              "type": "string"
            },
            "text/plain": [
              "'\\n\\n\\n\\n\\n\\n\\n\\n\\n\\n\\n\\n\\n\\n\\n\\n\\n\\n\\n\\n\\n\\n\\n\\n\\n\\n\\n\\n\\n\\n\\n\\n\\n\\n\\n\\n\\n\\n\\n\\n\\n\\n\\n\\n\\n\\n\\nข้อเสนอโครงการเบื้องต้น (Project Brief) ส าหรับโครงการภายใต้แผนงาน/โครงการที่มีวัตถุประสงค์ \\n\\nเพื่อฟื้นฟูเศรษฐกิจและสังคมตามบัญชีท้าย พ.ร.ก. ให้อ านาจกระทรวงการคลังกู้เงินเพื่อแก้ไขปัญหา เยียวยา  \\n\\nและฟื้นฟูเศรษฐกิจและสังคมที่ได้รับผลกระทบจากสถานการณ์การระบาดของ \\n\\nโรคติดเชื้อไวรัสโคโรนา 2019 พ.ศ. 2563 \\n\\n1. ชื่อโครงการ โครงการส่งเสริมการสร้างรายได้ด้วยการจ้างแรงงานตัดหญ้าริมไหล่ทางถนนในความ\\n\\nรับผิดชอบขององค์การบริหารส่วนจังหวัดกระบี่                                                               \\n\\nพื้นที่ด าเนินการ  จ.กระบี ่          \\n\\nระยะเวลาด าเนินการ ___3______ เดือน (เริ่มต้นเดือน  ต.ค. - ธ.ค.63    ) \\n\\n2. หน่วยงานผู้รับผิดชอบ (หน่วยรับงบประมาณ) (กรม/จังหวัด/หน่วยงานรัฐ)  กรมส่งเสริมการปกครอง\\n\\nท้องถิ่น    จังหวัดกระบี่    องค์การบริหารส่วนจังหวัดกระบี่    \\n\\nกระทรวง  มหาดไทย           \\n\\n3. วงเงินงบประมาณ      0.866       ล้านบาท \\n\\n4. ความสอดคล้องกับกรอบนโยบายการฟื้นฟูเศรษฐกิจและสังคม \\n\\n☐ 4.1 แผนงานหรือโครงการลงทุนและกิจกรรมการพัฒนาท่ีสามารถพลิกฟื้นกิจกรรมทางเศรษฐกิจ เพิ่ม\\nศักยภาพและยกระดับการค้า การผลิต และการบริการในสาขาเศรษฐกิจท่ีส าคัญของประเทศ \\nโดยครอบคลุมภาคเกษตร อุตสาหกรรม การค้าและการลงทุน ท่องเท่ียวและบริการ \\n\\n☐ เป้าหมาย สร้างรายได้จากภาคการผลิตและภาคบริการท่ีทันสมัย ในพื้นที่เป้าหมาย \\nโปรดระบุ \\n\\n☐ ภาคเกษตรกรรม   ☐ ภาคอุตสาหกรรม การค้า/การลงทุน \\n\\n☐ ภาคท่องเท่ียวและบริการ  ☐ อื่นๆ ระบุ .......................... \\n\\n☒ 4.2 แผนงานฟื้นฟูเศรษฐกิจท้องถิ่นและชุมชน ผ่านการด าเนินโครงการหรือกิจกรรมเพื่อสร้างงาน \\nสร้างอาชีพ โดยการส่งเสริมตลาดส าหรับผลผลิต และผลิตภัณฑ์ของธุรกิจชุมชนท่ีเชื่อมโยง  \\nกับการท่องเท่ียวหรือภาคบริการอื่น การพัฒนาโครงสร้างพื้นฐานในชุมชน การจัดหาปัจจัย \\nการผลิตและสิ่งอ านวยความสะดวกท่ีจ าเป็นส าหรับการพัฒนาผลิตภัณฑ์ท้องถิ่นและชุมชน \\nรวมทั้งการสร้างการเข้าถึงช่องทางการตลาด พร้อมท้ังยกระดับมาตรฐานคุณภาพและมูลค่าเพิ่ม\\nของสินค้าและผลิตภัณฑ์ท้องถิ่นและชุมชน \\n\\n \\n\\n\\n\\n☒ เป้าหมาย กระตุ้น เศรษฐกิจฐานรากเพื่อสร้างงาน สร้างรายได้ \\nโปรดระบุ \\n\\n☐ พัฒนาสินค้าและบริการของชุมชน    ☐ พัฒนาการตลาดและสิ่งอ านวยความสะดวก \\n\\n☐ พัฒนาโครงสร้างพื้นฐานและส่งเสริมสาธารณะประโยชน์ระดับชุมชน \\n\\n☐ ส่งเสริมและพัฒนาทักษะฝีมือแรงงาน☒เกิดการฟื้นฟูและพัฒนาท้องถิ่นของตนเอง  \\n\\n☐ อื่นๆ ระบุ .......................... \\n\\n☐ 4.3 แผนงานหรือโครงการเพื่อส่งเสริมและกระตุ้นการบริโภคภาคครัวเรือนและเอกชน รวมถึง  \\nการลงทุนต่างๆของภาคเอกชน เพื่อให้สภาวะการบริโภคและการลงทุนกลับเข้าสู่ระดับปกติ  \\nได้โดยเร็ว \\n\\n☐ เป้าหมาย กระตุ้นเศรษฐกิจด้วยการบริโภคและการใช้จ่ายภายในประเทศ   \\nโปรดระบุ \\n\\n☐ ส่งเสริมและกระตุ้นการบริโภค  ☐ ส่งเสริมและกระตุ้นการลงทุน \\n\\n☐ อื่นๆ ระบุ .......................... \\n☐ 4.4 แผนงานพัฒนาโครงสร้างพื้นฐานผ่านการด าเนินโครงการหรือกิจกรรมเพื่อสร้างความมั่นคงทาง\\n\\nเศรษฐกิจ ยกระดับโครงสร้างพื้นฐานและสนับสนุนกระบวนการผลิตเพื่อการพัฒนาประเทศใน\\nระยะต่อไป \\n☐ เป้าหมาย สร้างระบบโครงสร้างพื้นฐานเพื่อสนับสนุนภาคการผลิตและบริการท่ีทันสมัยและ\\nเศรษฐกิจฐานราก \\nโปรดระบุ \\n\\n☐ การพัฒนาแหล่งเก็บกักน้ าและระบบชลประทาน  \\n☐ การพัฒนา/ปรับปรุงโครงข่ายคมนาคม \\n\\n☐ การพัฒนาสิ่งอ านวยความสะดวก        ☐ การพัฒนาดิจิทัลแพลตฟอร์ม \\n\\n☐ อื่นๆ ระบุ .......................... \\n5. ความส าคัญของโครงการ หลักการและเหตุผล \\n\\n(โปรดอธิบายให้เห็นว่าโครงการท่ีเสนอสามารถตอบสนองวัตถุประสงค์แผนงานฟื้นฟูเศรษฐกิจและสังคม\\nภายใต้ พ.ร.ก.ฯ อย่างไร)  \\n\\n๑)  ยุทธศาสตร์ชาติ 20 ปี  ก าหนดให้ประเทศไทยมีการขยายตัวของเศรษฐกิจอย่างต่อเนื่อง และมีการ\\nพัฒนาอย่างท่ัวถึงทุกภาคส่วน  เศรษฐกิจในประเทศมีความเข้มแข็ง และมีความสามารถในการแข่งขันกับประเทศ\\n\\n\\n\\nต่าง ๆ โดยก าหนดให้มียุทธศาสตร์การสร้างความเข้มแข็งทางเศรษฐกิจและแข่งขันได้อย่างยั่งยืน  โดยก าหนด\\nเป้าหมายทางเศรษฐกิจให้มีการขยายตัวในอัตราร้อยละ 5 ต่อปี   \\n\\n๒) ทิศทางการพัฒนาการท่องเท่ียวในปี 2563 อุตสาหกรรมการท่องเท่ียวยังคงได้รับความไว้วางใจ                \\nให้เป็น ฟันเฟืองหลักท่ีส าคัญในการช่วยกระตุ้นเศรษฐกิจของประเทศ  โดยก าหนดเป้าหมายเชิงเศรษฐกิจ เพื่อ\\nสร้างรายได้ทางการท่องเท่ียวรวมให้เพิ่มขึ้นร้อยละ 10 จากปี 2562 ซึ่งจะท าให้รายได้จากนักท่องเท่ียวต่างชาติ\\nเพิ่มขึ้นเป็น 2.431 ล้านล้าน บาท ในปี 2563 ในขณะท่ีรายได้จากนักท่องเท่ียวชาวไทยจะเพิ่มขึ้นเป็น 1.287 ล้าน\\nล้านบาท ท าให้รายได้รวมเพิ่มขึ้นจาก 3.38 ล้านล้านบาท เป็น 3.718 ล้านล้านบาท \\n\\n3) ข้อมูลสถิติด้านการท่องเท่ียวจังหวัดกระบี่ ประจ าปี 2562  โดยส านักงานการท่องเท่ียวและกีฬา\\nจังหวัดกระบี่  \\n\\nรายการ ปี 2562P (ทั้งปี) ปี 2561 (ทั้งปี) +/- (%) \\n\\nจ านวนผู้เยี่ยมเยือน (คน) 6,838,846 6,766,858 +1.06 \\nชาวไทย 2,495,022 2,530,535 -1.40 \\nชาวต่างประเทศ 4,340,824 4,236,323 +2.46 \\nรายได้ (ล้านบาท) 119,419.4 115,176.70 +3.68 \\nชาวไทย 40,266.64 39,773.26 +1.22 \\nชาวต่างประเทศ 79,152.75 75,403.44 +4.97 \\nอ ัตราการเข้าพัก \\nOccupancy Rate (%) \\n\\n69.53 69.16 +0.37 \\n\\n \\n\\n4) ในปี พ.ศ.2562 จังหวัดกระบี่มีนักท่องเท่ียวเข้ามาเยี่ยมเยือน จ านวน  6,838,846  คน เป็นชาวไทย  \\nจ านวน  2,495,022  คน  ชาวต่างประเทศจ านวน  4,340,824 คน โดยเพิ่มขึ้นจากปีท่ีผ่านมา  ร้อยละ  +1.06 \\nส่วนรายได้จากการท่องเท่ียว จ านวน  119,419.4 ล้านบาท เป็นชาวไทย จ านวน 40,266.64 ล้านบาท  และชาว\\nต่างประเทศ  จ านวน 79,152.75  ล้านบาท  เพิ่มขึ้นจากปีท่ีผ่านมา  ร้อยละ 3.68  โดยนักท่องเท่ียวชาว\\nต่างประเทศ 5 อันดับแรก ท่ีเดินทางเข้ามาท่องเท่ียวในจังหวัดกระบี่ ประกอบด้วย จีน  มาเลเซีย  รัสเซีย  สวีเดน\\nสิงคโปร์ สถานการณ์การเดินทางท่องเท่ียวจังหวัดกระบี่มีทิศทางเติบโตท่ีดีมาโดยตลอด  ทั้งนี้เพราะจังหวัดกระบี่\\nอุดมไปด้วยแหล่งท่องเท่ียวท่ีหลากหลาย โดยเฉพาะอย่างยิ่งแหล่งท่องเท่ียวทางทะเลท่ีมีน้ าทะเลและหาดทรายท่ี\\nสะอาด เป็นแหล่งท่องเท่ียวทางศิลปวัฒนธรรม แหล่งท่องเท่ียวประวัติศาสตร์  และแหล่งท่องเท่ียวเชิงสุขภาพ  อัน\\nเป็นมนต์เสน่ห์ท่ีสร้างความประทับใจและดึงดูดในใจให้แก่นักท่องเท่ียวเดินทางเข้ามาท่องเท่ียวอย่างต่อเนื่อง  \\n\\n\\n\\nนอกจากนี้ยังมีปัจจัยเสริม เช่น การเปิดบริการสายการบินต้นทุนต่ า  จึงท าให้นักท่องเท่ียวเดินทางมาท่องเท่ียว\\nจังหวัดกระบี่เพิ่มขึ้นทุกปี  \\n\\n5) ข้อมูลการเกษตรจังหวัดกระบี่ 2561 จังหวัดกระบี่มีเนื้อท่ีใช้ประโยชน์ทางการเกษตร จ านวน  \\n2,942,820 ไร่  ประชากรส่วนใหญ่ประกอบอาชีพเกษตรกรรม  โดยมีการใช้เนื้อท่ีเพื่อเพาะปลูกปาล์มน้ ามัน \\n1,138,323  ไร่ โดยเรียงล าดับการใช้ประโยชน์ทางการเกษตรตามอ าเภอได้ดังนี้ อ าเภอคลองท่อม  235,569  ไร่   \\nอ าเภออ่าวลึก 212,084 ไร่  และอ าเภอเขาพนม 198,668 ไร่ อ าเภอปลายพระยา 192,541 ไร่  อ าเภอเหนือคลอง  \\n104,566  ไร่  อ าเภอเมืองกระบี่  96,434  ไร่  อ าเภอล าทับ 80,598  ไร่  และอ าเภอเกาะลันตา  17,863  ไร่  \\nและใช้เนื้อท่ีเพาะปลูกยางพารา 716,140 ไร่  โดยเรียงล าดับการใช้ประโยชน์ทางการเกษตรตามอ าเภอได้ดังนี้\\nอ าเภอคลองท่อม 195,341 ไร่ อ าเภอเขาพนม 165,725 ไร่ อ าเภอเมืองกระบี่ 102,898 ไร่ อ าเภอเหนือคลอง \\n59,979 ไร่ อ าเภออ่าวลึก 59,917 ไร่ อ าเภอล าทับ 53,434 ไร่ อ าเภอเกาะลันตา 44,485 ไร่ และอ าเภอปลายพระ\\nยา 34,361 ไร่  \\n\\n6) จังหวัดกระบี่  มีพื้นที่ 4,708,512 ตารางกิโลเมตร หรือประมาณ 2,942,820 ไร่ ประชากรส่วนใหญ่\\nประกอบอาชีพด้านการเกษตร  โดยพืชเกษตรท่ีส าคัญ คือ ปาล์มน้ ามัน มีจ านวน 1,043,700 ไร่ รองลงมาคือ\\nยางพารา จ านวน 776,254 ไร่ ดังนั้นเส้นทางคมนาคมท่ีใช้ในการขนส่งผลผลิตทางการเกษตร  จึงมีสัดส่วนท่ีสูง\\nตามไปด้วยเพื่อตามความต้องการของประชาชน   \\n\\n7) องค์การบริหารส่วนจังหวัดกระบี่เป็นองค์กรปกครองส่วนท้องถิ่นขนาดใหญ่ในจังหวัดกระบี่              \\nมีหน้าท่ีหลักในการจัดบริการสาธารณะให้กับประชาชนในท้องถิ่น  โดยเฉพาะการพัฒนาเส้นทางคมนาคมขนส่งใน\\nพื้นที่รับผิดชอบขององค์การบริหารส่วนจังหวัดกระบี่ โดยในปัจจุบันองค์การบริหารส่วนจังหวัดกระบี่ได้รับการถ่าย\\nโอนถนนจากกรมทางหลวงชนบท  จ านวน  26 สายทาง  และถนนท่ีได้ก่อสร้างใหม่และได้ลงทะเบียนทางหลวง\\nท้องถิ่นท่ีอยู่ในความรับผิดชอบ  จ านวน  87 สายทาง  ประกอบกับสถานการณ์ในปัจจุบันท่ีเกิดการแพร่ระบาด\\nของโรคติดเชื้อไวรัสโคโรนา 2019  ท าให้ประชาชนขาดงานและขาดรายได้ในการประกอบอาชีพ  รวมท้ังพืชผล\\nทางการเกษตรมีราคาตกต่ าเกษตรมีรายได้ไม่เพียงพอต่อการด ารงชีพ   \\n\\nดังนั้นเพื่อเป็นการสร้างรายได้ให้กับประชาชนในท้องถิ่น  จึงจ าเป็นอย่างยิ่งท่ีจะต้องสร้างงานเพื่อให้\\nรายได้เกิดขึ้นกับประชาชนในท้องถิ่นจริงๆ  องค์การบริหารส่วนจังหวัดกระบี่จึงขอเสนอโครงการส่งเสริมการสร้าง\\nรายได้ด้วยการจ้างแรงงานตัดหญ้าริมไหล่ทางถนนในความรับผิดชอบขององค์การบริหารส่วนจังหวัดกระบี่  โดย\\nการจ้างแรงงานในท้องถิ่นเพื่อให้ประชาชนได้รับผลประโยชน์โดยตรง เพื่อสร้างรายได้ให้กับประชาชนในพื้นท่ี\\nโดยตรง  \\n\\n \\n\\n   \\n\\n\\n\\n6. ที่มาของโครงการ \\n\\n☐ แผนหมู่บ้าน/ชุมชน  ☐ แผนท้องถิ่น \\n\\n☐ แผนพัฒนาอ าเภอ  ☐ แผนพัฒนาจังหวัด \\n\\n☒ ริเริ่มใหม่   ☐ ข้อเสนอของมูลนิธิ องค์กรอิสระ สหกรณ์ วิสาหกิจชุมชน ฯลฯ \\n\\n☐ อื่นๆ โปรดระบุ ____________________________________________________________ \\n7. กลุ่มเป้าหมายที่คาดว่าจะได้รับประโยชน์จากการด าเนินแผนงาน/โครงการโดยตรง (โปรดระบุ\\n\\nกลุ่มเป้าหมายท่ีชัดเจน อาทิ ประชาชนผู้ตกงาน   ผู้ประกอบการกลุ่มท่องเท่ียว ) \\n\\n☒  ประชาชน    200,000 ราย ☒  เกษตรกร 100,000 ราย  \\n\\n☒  ผู้ประกอบการ        50,000  ราย ☐  อื่นๆ    ราย  \\n8. ขอบเขตการด าเนินงาน/กิจกรรมที่ส าคัญของโครงการ  (โปรดอธิบายให้เห็นถึงกิจกรรม-วิธีการ\\n\\nด าเนินงาน) จ้างเหมาด าเนินการ ตัดหญ้าริมไหล่ทาง \\n9. ผลที่คาดว่าจะได้รับ \\n\\nเป้าหมายและตัวชี้วัด \\n\\n1 จ านวนถนนในความรับผิดชอบขององค์การบริหารส่วนจังหวัดกระบี่ได้รับการจ้างงานในท้องถิ่น\\nเพื่อตัดหญ้าริมไหล่ทาง  8 อ าเภอ \\n\\n \\n\\n2. อัตรารายได้ของจังหวัดกระบี่เพิ่มสูงขึ้นไม่น้อยกว่าร้อยละ 3  เพื่อขับเคลื่อนการพัฒนาเศรษฐกิจ\\nฐานรากให้สามารถพยุงและฟื้นฟูเศรษกิจให้กลับสู่ภาวะปกติจากผลกระทบของโรคติดเชื้อไวรัส                  \\nโคโรนา 2019   \\n\\n \\n \\n\\n10. ผู้รับผิดชอบแผนงาน/โครงการ \\n1 ช่ือ-สกุล นายสมศักด์ิ  กิตติธรกุล           \\n\\nต าแหน่ง  นายกองค์การบริหารส่วนจังหวัดกระบี่  กอง/ส านัก       \\nโทรศัพท์ (ส านักงาน/มือถือ)  075-600281     โทรสาร   075-600281       \\nE-mail        Line ID      \\n\\n2 ช่ือ-สกุล นายกิตติชัย  เอ่งฉ้วน          \\nต าแหน่ง รองนายกองค์การบริหารส่วนจังหวัดกระบี่ กอง/ส านัก         \\nโทรศัพท์ (ส านักงาน/มือถือ)  075-600281    โทรสาร  075-600281     \\nE-mail       Line ID       \\n\\n\\n\\n \\n\\n\\n'"
            ]
          },
          "metadata": {
            "tags": []
          },
          "execution_count": 7
        }
      ]
    },
    {
      "cell_type": "code",
      "metadata": {
        "id": "tMuSLubRDw3E",
        "colab_type": "code",
        "colab": {}
      },
      "source": [
        "# for remove all file name which starts with \"1\"\n",
        "#!rm -r 1*"
      ],
      "execution_count": 8,
      "outputs": []
    },
    {
      "cell_type": "markdown",
      "metadata": {
        "id": "ie3_XEgzOVo-",
        "colab_type": "text"
      },
      "source": [
        "# Dict to df"
      ]
    },
    {
      "cell_type": "code",
      "metadata": {
        "id": "kdFNUVQvI1UN",
        "colab_type": "code",
        "colab": {
          "base_uri": "https://localhost:8080/",
          "height": 173
        },
        "outputId": "5d7abfdc-24b1-4308-a5d0-9e041e5cab29"
      },
      "source": [
        "new_df = pd.DataFrame({'file_name' : [ k for k in dic_text.keys()],\n",
        "                       'text' : [ v for v in dic_text.values()]})\n",
        "new_df.head()"
      ],
      "execution_count": 9,
      "outputs": [
        {
          "output_type": "execute_result",
          "data": {
            "text/html": [
              "<div>\n",
              "<style scoped>\n",
              "    .dataframe tbody tr th:only-of-type {\n",
              "        vertical-align: middle;\n",
              "    }\n",
              "\n",
              "    .dataframe tbody tr th {\n",
              "        vertical-align: top;\n",
              "    }\n",
              "\n",
              "    .dataframe thead th {\n",
              "        text-align: right;\n",
              "    }\n",
              "</style>\n",
              "<table border=\"1\" class=\"dataframe\">\n",
              "  <thead>\n",
              "    <tr style=\"text-align: right;\">\n",
              "      <th></th>\n",
              "      <th>file_name</th>\n",
              "      <th>text</th>\n",
              "    </tr>\n",
              "  </thead>\n",
              "  <tbody>\n",
              "    <tr>\n",
              "      <th>0</th>\n",
              "      <td>1310udhmdfXYpwox727N0FOQVC0NaQFTt.pdf</td>\n",
              "      <td>\\n\\n\\n\\n\\n\\n\\n\\n\\n\\n\\n\\n\\n\\n\\n\\n\\n\\n\\n\\n\\n\\n\\n...</td>\n",
              "    </tr>\n",
              "    <tr>\n",
              "      <th>1</th>\n",
              "      <td>1qschiwWNOLsTIQ4I8zZKhdonEDIk80V5.pdf</td>\n",
              "      <td>\\n\\n\\n\\n\\n\\n\\n\\n\\n\\n\\n\\n\\n\\n\\n\\n\\n\\n\\n\\n\\n\\n\\n...</td>\n",
              "    </tr>\n",
              "    <tr>\n",
              "      <th>2</th>\n",
              "      <td>1waJkTk6aEETHZrfJ6672-l6ULAxd2tPi.pdf</td>\n",
              "      <td>\\n\\n\\n\\n\\n\\n\\n\\n\\n\\n\\n\\n\\n\\n\\n\\n\\n\\n\\n\\n\\n\\n\\n...</td>\n",
              "    </tr>\n",
              "    <tr>\n",
              "      <th>3</th>\n",
              "      <td>1FZi5LL9FSfsZkq_qkxzRDPQupbtUOvAY.pdf</td>\n",
              "      <td>\\n\\n\\n\\n\\n\\n\\n\\n\\n\\n\\n\\n\\n\\n\\n\\n\\n\\n\\n\\n\\n\\n\\n...</td>\n",
              "    </tr>\n",
              "  </tbody>\n",
              "</table>\n",
              "</div>"
            ],
            "text/plain": [
              "                               file_name                                               text\n",
              "0  1310udhmdfXYpwox727N0FOQVC0NaQFTt.pdf  \\n\\n\\n\\n\\n\\n\\n\\n\\n\\n\\n\\n\\n\\n\\n\\n\\n\\n\\n\\n\\n\\n\\n...\n",
              "1  1qschiwWNOLsTIQ4I8zZKhdonEDIk80V5.pdf  \\n\\n\\n\\n\\n\\n\\n\\n\\n\\n\\n\\n\\n\\n\\n\\n\\n\\n\\n\\n\\n\\n\\n...\n",
              "2  1waJkTk6aEETHZrfJ6672-l6ULAxd2tPi.pdf  \\n\\n\\n\\n\\n\\n\\n\\n\\n\\n\\n\\n\\n\\n\\n\\n\\n\\n\\n\\n\\n\\n\\n...\n",
              "3  1FZi5LL9FSfsZkq_qkxzRDPQupbtUOvAY.pdf  \\n\\n\\n\\n\\n\\n\\n\\n\\n\\n\\n\\n\\n\\n\\n\\n\\n\\n\\n\\n\\n\\n\\n..."
            ]
          },
          "metadata": {
            "tags": []
          },
          "execution_count": 9
        }
      ]
    },
    {
      "cell_type": "code",
      "metadata": {
        "id": "ymqJY1PqKoVA",
        "colab_type": "code",
        "colab": {
          "base_uri": "https://localhost:8080/",
          "height": 173
        },
        "outputId": "dfbc8961-8464-4f33-d8aa-8585b04e7d72"
      },
      "source": [
        "# replace key with value\n",
        "replace_dic = {'อ านาจ':'อำนาจ',\n",
        "               'ด า' : 'ดำ',\n",
        "               'ท่ี' : 'ที่',\n",
        "               'เท่ียว' : 'เที่ยว',\n",
        "               'อ า' : 'อำ',\n",
        "               'จ า' : 'จำ',\n",
        "               'ท้ัง' : 'ทั้ง',\n",
        "               'น้ า' : 'น้ำ',\n",
        "               'ส า' : 'สำ',\n",
        "               'ก า' : 'กำ',\n",
        "               'ท่ัว' : 'ทั้ว',\n",
        "               'ก า' : 'กำ' ,\n",
        "               'ท า' : 'ทำ',\n",
        "               'จ า' : 'จำ',\n",
        "               'อ ัต' : 'อัต',\n",
        "               'ต่ า' : 'ต่ำ',\n",
        "               'ล า' : 'ลำ',\n",
        "               'ต า' : 'ตำ',\n",
        "               'ช่ือ' : 'ชื่อ',\n",
        "               'บี ่' : 'บี่',\n",
        "               'พ้ืน' : 'พื้น',\n",
        "               'พื น' : 'พื้น',\n",
        "               'เพ่ือ' : 'เพื่อ',\n",
        "               'ฟ้ืน' : 'ฟิ้น',\n",
        "               'เพ่ิม' : 'เพิ่ม',\n",
        "               'ใหม ่' : 'ใหม่',\n",
        "               'อ่ื' : 'อื่',\n",
        "               'อ่ืน' : 'อื่น',\n",
        "               'ม่ัน' : 'มั่น',\n",
        "               'น ้า' : 'น้ำ',\n",
        "               '๑' : '1',\n",
        "               '๒' : '2',\n",
        "               '๓' : '3',\n",
        "               '๔' : '4',\n",
        "               '๕' : '5',\n",
        "               '๖' : '6',\n",
        "               '๗' : '7',\n",
        "               '๘' : '8',\n",
        "               '๙' : '9',\n",
        "               '๐' : '0',\n",
        "               '\\uf70e':'์',\n",
        "              '\\uf70a':'่',\n",
        "              '\\uf70b':'้',\n",
        "              '\\uf710':'ั',\n",
        "              '\\uf704\\uf714':'ื้',\n",
        "              'เปา':'เป้า',\n",
        "              'ฝ': 'ฝี',\n",
        "              'เปน':'เป็น'\n",
        "            }\n",
        "\n",
        "# apply replace_dic to column text     \n",
        "new_df['text'] = new_df['text'].str.strip().replace(replace_dic, regex=True)\n",
        "new_df"
      ],
      "execution_count": 10,
      "outputs": [
        {
          "output_type": "execute_result",
          "data": {
            "text/html": [
              "<div>\n",
              "<style scoped>\n",
              "    .dataframe tbody tr th:only-of-type {\n",
              "        vertical-align: middle;\n",
              "    }\n",
              "\n",
              "    .dataframe tbody tr th {\n",
              "        vertical-align: top;\n",
              "    }\n",
              "\n",
              "    .dataframe thead th {\n",
              "        text-align: right;\n",
              "    }\n",
              "</style>\n",
              "<table border=\"1\" class=\"dataframe\">\n",
              "  <thead>\n",
              "    <tr style=\"text-align: right;\">\n",
              "      <th></th>\n",
              "      <th>file_name</th>\n",
              "      <th>text</th>\n",
              "    </tr>\n",
              "  </thead>\n",
              "  <tbody>\n",
              "    <tr>\n",
              "      <th>0</th>\n",
              "      <td>1310udhmdfXYpwox727N0FOQVC0NaQFTt.pdf</td>\n",
              "      <td>ข้อเสนอโครงการเบื้องต้น (Project Brief) สำหรับ...</td>\n",
              "    </tr>\n",
              "    <tr>\n",
              "      <th>1</th>\n",
              "      <td>1qschiwWNOLsTIQ4I8zZKhdonEDIk80V5.pdf</td>\n",
              "      <td>ข้อเสนอโครงการเบื้องต้น (Project Brief)สำหรับโ...</td>\n",
              "    </tr>\n",
              "    <tr>\n",
              "      <th>2</th>\n",
              "      <td>1waJkTk6aEETHZrfJ6672-l6ULAxd2tPi.pdf</td>\n",
              "      <td>ข้อเสนอโครงการเบื้องต้น (Project Brief) สำหรับ...</td>\n",
              "    </tr>\n",
              "    <tr>\n",
              "      <th>3</th>\n",
              "      <td>1FZi5LL9FSfsZkq_qkxzRDPQupbtUOvAY.pdf</td>\n",
              "      <td>Microsoft Word - à¹†à¸ıà¸ıà¸ªà¸£à¸¸à¸łà¸¢à¹‹à¸...</td>\n",
              "    </tr>\n",
              "  </tbody>\n",
              "</table>\n",
              "</div>"
            ],
            "text/plain": [
              "                               file_name                                               text\n",
              "0  1310udhmdfXYpwox727N0FOQVC0NaQFTt.pdf  ข้อเสนอโครงการเบื้องต้น (Project Brief) สำหรับ...\n",
              "1  1qschiwWNOLsTIQ4I8zZKhdonEDIk80V5.pdf  ข้อเสนอโครงการเบื้องต้น (Project Brief)สำหรับโ...\n",
              "2  1waJkTk6aEETHZrfJ6672-l6ULAxd2tPi.pdf  ข้อเสนอโครงการเบื้องต้น (Project Brief) สำหรับ...\n",
              "3  1FZi5LL9FSfsZkq_qkxzRDPQupbtUOvAY.pdf  Microsoft Word - à¹†à¸ıà¸ıà¸ªà¸£à¸¸à¸łà¸¢à¹‹à¸..."
            ]
          },
          "metadata": {
            "tags": []
          },
          "execution_count": 10
        }
      ]
    }
  ]
}